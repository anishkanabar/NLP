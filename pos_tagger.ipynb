{
  "cells": [
    {
      "cell_type": "markdown",
      "metadata": {
        "id": "I6cVuYKLo-sz"
      },
      "source": [
        "# Neural Network-based Part of Speech Tagger\n",
        "\n",
        "In this problem, we will\n",
        "- Build a neural network based part of speech (POS) tagger.\n",
        "- Run the model on a GPU at Google Colab.\n",
        "- Extend the model to use pretrained embeddings.\n",
        "- Optionally extend the model in some manner of your own choosing.\n",
        "\n",
        "There are a total of 8 tasks.\n",
        "\n",
        "PyTorch and, particularly, Torchtext are currently evolving rapidly. The code in this homework works for PyTorch version 1.11.0 and Torchtext version 0.12.0. It hasn't been tested for other versions.\n",
        "\n",
        "Acknowledgements: Part of this homework were adapted from work done by\n",
        "[Ben Trevett](https://github.com/bentrevett) and\n",
        "[Kevin Gimpel](https://home.ttic.edu/~kgimpel/)."
      ]
    },
    {
      "cell_type": "code",
      "source": [
        "pip install torchdata"
      ],
      "metadata": {
        "colab": {
          "base_uri": "https://localhost:8080/",
          "height": 731
        },
        "id": "tHE8h1A0CHAV",
        "outputId": "18c474dc-8467-41af-b506-ce31e27c6819"
      },
      "execution_count": null,
      "outputs": [
        {
          "output_type": "stream",
          "name": "stdout",
          "text": [
            "Looking in indexes: https://pypi.org/simple, https://us-python.pkg.dev/colab-wheels/public/simple/\n",
            "Collecting torchdata\n",
            "  Downloading torchdata-0.4.0-cp37-cp37m-manylinux2014_x86_64.whl (4.4 MB)\n",
            "\u001b[K     |████████████████████████████████| 4.4 MB 26.1 MB/s \n",
            "\u001b[?25hCollecting torch==1.12.0\n",
            "  Downloading torch-1.12.0-cp37-cp37m-manylinux1_x86_64.whl (776.3 MB)\n",
            "\u001b[K     |████████████████████████████████| 776.3 MB 19 kB/s \n",
            "\u001b[?25hRequirement already satisfied: requests in /usr/local/lib/python3.7/dist-packages (from torchdata) (2.23.0)\n",
            "Collecting portalocker>=2.0.0\n",
            "  Downloading portalocker-2.4.0-py2.py3-none-any.whl (16 kB)\n",
            "Collecting urllib3>=1.25\n",
            "  Downloading urllib3-1.26.10-py2.py3-none-any.whl (139 kB)\n",
            "\u001b[K     |████████████████████████████████| 139 kB 69.7 MB/s \n",
            "\u001b[?25hRequirement already satisfied: typing-extensions in /usr/local/lib/python3.7/dist-packages (from torch==1.12.0->torchdata) (4.1.1)\n",
            "Requirement already satisfied: chardet<4,>=3.0.2 in /usr/local/lib/python3.7/dist-packages (from requests->torchdata) (3.0.4)\n",
            "Requirement already satisfied: certifi>=2017.4.17 in /usr/local/lib/python3.7/dist-packages (from requests->torchdata) (2022.6.15)\n",
            "  Downloading urllib3-1.25.11-py2.py3-none-any.whl (127 kB)\n",
            "\u001b[K     |████████████████████████████████| 127 kB 35.6 MB/s \n",
            "\u001b[?25hRequirement already satisfied: idna<3,>=2.5 in /usr/local/lib/python3.7/dist-packages (from requests->torchdata) (2.10)\n",
            "Installing collected packages: urllib3, torch, portalocker, torchdata\n",
            "  Attempting uninstall: urllib3\n",
            "    Found existing installation: urllib3 1.24.3\n",
            "    Uninstalling urllib3-1.24.3:\n",
            "      Successfully uninstalled urllib3-1.24.3\n",
            "  Attempting uninstall: torch\n",
            "    Found existing installation: torch 1.9.0\n",
            "    Uninstalling torch-1.9.0:\n",
            "      Successfully uninstalled torch-1.9.0\n",
            "\u001b[31mERROR: pip's dependency resolver does not currently take into account all the packages that are installed. This behaviour is the source of the following dependency conflicts.\n",
            "torchvision 0.12.0+cu113 requires torch==1.11.0, but you have torch 1.12.0 which is incompatible.\n",
            "torchtext 0.10.0 requires torch==1.9.0, but you have torch 1.12.0 which is incompatible.\n",
            "torchaudio 0.11.0+cu113 requires torch==1.11.0, but you have torch 1.12.0 which is incompatible.\n",
            "fastai 2.6.3 requires torch<1.12,>=1.7.0, but you have torch 1.12.0 which is incompatible.\n",
            "datascience 0.10.6 requires folium==0.2.1, but you have folium 0.8.3 which is incompatible.\u001b[0m\n",
            "Successfully installed portalocker-2.4.0 torch-1.12.0 torchdata-0.4.0 urllib3-1.25.11\n"
          ]
        },
        {
          "output_type": "display_data",
          "data": {
            "application/vnd.colab-display-data+json": {
              "pip_warning": {
                "packages": [
                  "torch",
                  "urllib3"
                ]
              }
            }
          },
          "metadata": {}
        }
      ]
    },
    {
      "cell_type": "code",
      "execution_count": null,
      "metadata": {
        "colab": {
          "base_uri": "https://localhost:8080/",
          "height": 505
        },
        "id": "b739ZVJHp_VN",
        "outputId": "124e0e8a-4023-42f1-abca-44f052c030ac"
      },
      "outputs": [
        {
          "output_type": "stream",
          "name": "stdout",
          "text": [
            "Looking in indexes: https://pypi.org/simple, https://us-python.pkg.dev/colab-wheels/public/simple/\n",
            "Requirement already satisfied: torchtext==0.10.0 in /usr/local/lib/python3.7/dist-packages (0.10.0)\n",
            "Requirement already satisfied: numpy in /usr/local/lib/python3.7/dist-packages (from torchtext==0.10.0) (1.21.6)\n",
            "Collecting torch==1.9.0\n",
            "  Using cached torch-1.9.0-cp37-cp37m-manylinux1_x86_64.whl (831.4 MB)\n",
            "Requirement already satisfied: tqdm in /usr/local/lib/python3.7/dist-packages (from torchtext==0.10.0) (4.64.0)\n",
            "Requirement already satisfied: requests in /usr/local/lib/python3.7/dist-packages (from torchtext==0.10.0) (2.23.0)\n",
            "Requirement already satisfied: typing-extensions in /usr/local/lib/python3.7/dist-packages (from torch==1.9.0->torchtext==0.10.0) (4.1.1)\n",
            "Requirement already satisfied: chardet<4,>=3.0.2 in /usr/local/lib/python3.7/dist-packages (from requests->torchtext==0.10.0) (3.0.4)\n",
            "Requirement already satisfied: certifi>=2017.4.17 in /usr/local/lib/python3.7/dist-packages (from requests->torchtext==0.10.0) (2022.6.15)\n",
            "Requirement already satisfied: idna<3,>=2.5 in /usr/local/lib/python3.7/dist-packages (from requests->torchtext==0.10.0) (2.10)\n",
            "Requirement already satisfied: urllib3!=1.25.0,!=1.25.1,<1.26,>=1.21.1 in /usr/local/lib/python3.7/dist-packages (from requests->torchtext==0.10.0) (1.25.11)\n",
            "Installing collected packages: torch\n",
            "  Attempting uninstall: torch\n",
            "    Found existing installation: torch 1.12.0\n",
            "    Uninstalling torch-1.12.0:\n",
            "      Successfully uninstalled torch-1.12.0\n",
            "\u001b[31mERROR: pip's dependency resolver does not currently take into account all the packages that are installed. This behaviour is the source of the following dependency conflicts.\n",
            "torchvision 0.12.0+cu113 requires torch==1.11.0, but you have torch 1.9.0 which is incompatible.\n",
            "torchdata 0.4.0 requires torch==1.12.0, but you have torch 1.9.0 which is incompatible.\n",
            "torchaudio 0.11.0+cu113 requires torch==1.11.0, but you have torch 1.9.0 which is incompatible.\u001b[0m\n",
            "Successfully installed torch-1.9.0\n"
          ]
        },
        {
          "output_type": "display_data",
          "data": {
            "application/vnd.colab-display-data+json": {
              "pip_warning": {
                "packages": [
                  "torch"
                ]
              }
            }
          },
          "metadata": {}
        }
      ],
      "source": [
        "!pip install -U torchtext==0.10.0"
      ]
    },
    {
      "cell_type": "code",
      "execution_count": null,
      "metadata": {
        "id": "ArRy2xKUo-s4"
      },
      "outputs": [],
      "source": [
        "import torch\n",
        "import torch.nn as nn\n",
        "import torch.optim as optim\n",
        "\n",
        "from torchtext.legacy.data import Field, TabularDataset, BucketIterator, Iterator\n",
        "#import torchdata\n",
        "from torchtext import data\n",
        "from torchtext import datasets\n",
        "\n",
        "from collections import Counter\n",
        "from torchtext.vocab import Vocab, vocab\n",
        "\n",
        "import numpy as np\n",
        "import random"
      ]
    },
    {
      "cell_type": "code",
      "execution_count": null,
      "metadata": {
        "id": "2-hiSlAto-s6"
      },
      "outputs": [],
      "source": [
        "SEED = 53113 # Specify a seed for reproducibility\n",
        "\n",
        "random.seed(SEED)\n",
        "np.random.seed(SEED)\n",
        "torch.manual_seed(SEED)\n",
        "if torch.cuda.is_available():\n",
        "    torch.cuda.manual_seed(SEED)\n",
        "torch.backends.cudnn.deterministic = True"
      ]
    },
    {
      "cell_type": "markdown",
      "metadata": {
        "id": "6c_VNhDTo-s7"
      },
      "source": [
        "### Using GPUs\n",
        "\n",
        "We want our code to run on a CPU or on a [GPU](https://en.wikipedia.org/wiki/Graphics_processing_unit) when available, as on Google Colab.  The code will likely run at least five times as fast on a GPU. PyTorch connects with a GPU via the system interface [CUDA](https://en.wikipedia.org/wiki/CUDA).\n",
        "\n",
        "The following tells us whether CUDA/GPU is available or not.  The changes you have to make so that your code can use a GPU when available are surprisingly small. All such changes have already been made in the provided code below. They are:\n",
        "- the data loader needs to place the input to the model appropriately using `to(device).`\n",
        "- similarly, the model object itself needs to be placed appropriately using `to(device).`\n"
      ]
    },
    {
      "cell_type": "code",
      "execution_count": null,
      "metadata": {
        "id": "Peazo6zfo-s8"
      },
      "outputs": [],
      "source": [
        "device = torch.device('cuda')"
      ]
    },
    {
      "cell_type": "markdown",
      "metadata": {
        "id": "wqvY_KN6o-s8"
      },
      "source": [
        "### Cache for GloVe\n",
        "\n",
        "If you have already downloaded GloVe (in this notebook or in the logistic regression notebook), you can reuse it. Change the vector cache directory location if it is saved in a different location."
      ]
    },
    {
      "cell_type": "code",
      "execution_count": null,
      "metadata": {
        "id": "DjiD_QPLo-s9"
      },
      "outputs": [],
      "source": [
        "VECTORS_CACHE_DIR = './.vector_cache' # or modify to the correct location"
      ]
    },
    {
      "cell_type": "markdown",
      "metadata": {
        "id": "dqhhSXrfo-s-"
      },
      "source": [
        "### UDPOS Dataset\n",
        "\n",
        "We'll work with the [`UDPOS`](https://pytorch.org/text/stable/datasets.html#udpos) dataset included with torchtext.  It contains about 12,500 sentences and the POS tags for the each word.  There are, in fact, two sets of tags, based on two different POS tagging standards: [Universal Dependency](https://universaldependencies.org/u/pos/) (UD) and [Penn Treebank](https://www.sketchengine.eu/penn-treebank-tagset/) (PTB). It has additionally about 2000 sentences in the validation and test sets.  The words and corresonding tags are organized into lists."
      ]
    },
    {
      "cell_type": "code",
      "execution_count": null,
      "metadata": {
        "colab": {
          "base_uri": "https://localhost:8080/"
        },
        "id": "eT29odrYo-s_",
        "outputId": "46b49d7e-3908-42d8-e4c2-48ff68f7f1fe"
      },
      "outputs": [
        {
          "output_type": "stream",
          "name": "stderr",
          "text": [
            "en-ud-v2.zip: 100%|██████████| 688k/688k [00:00<00:00, 31.7MB/s]"
          ]
        },
        {
          "output_type": "stream",
          "name": "stdout",
          "text": [
            "The sentence for Example 0 ---\n",
            "['Al', '-', 'Zaman', ':', 'American', 'forces', 'killed', 'Shaikh', 'Abdullah', 'al', '-', 'Ani', ',', 'the', 'preacher', 'at', 'the', 'mosque', 'in', 'the', 'town', 'of', 'Qaim', ',', 'near', 'the', 'Syrian', 'border', '.']\n",
            "The UD tags for Example 0 ---\n",
            "['PROPN', 'PUNCT', 'PROPN', 'PUNCT', 'ADJ', 'NOUN', 'VERB', 'PROPN', 'PROPN', 'PROPN', 'PUNCT', 'PROPN', 'PUNCT', 'DET', 'NOUN', 'ADP', 'DET', 'NOUN', 'ADP', 'DET', 'NOUN', 'ADP', 'PROPN', 'PUNCT', 'ADP', 'DET', 'ADJ', 'NOUN', 'PUNCT']\n",
            "The PTB tags for Example 0 ---\n",
            "['NNP', 'HYPH', 'NNP', ':', 'JJ', 'NNS', 'VBD', 'NNP', 'NNP', 'NNP', 'HYPH', 'NNP', ',', 'DT', 'NN', 'IN', 'DT', 'NN', 'IN', 'DT', 'NN', 'IN', 'NNP', ',', 'IN', 'DT', 'JJ', 'NN', '.']\n",
            "\n",
            "The sentence for Example 1 ---\n",
            "['[', 'This', 'killing', 'of', 'a', 'respected', 'cleric', 'will', 'be', 'causing', 'us', 'trouble', 'for', 'years', 'to', 'come', '.', ']']\n",
            "The UD tags for Example 1 ---\n",
            "['PUNCT', 'DET', 'NOUN', 'ADP', 'DET', 'ADJ', 'NOUN', 'AUX', 'AUX', 'VERB', 'PRON', 'NOUN', 'ADP', 'NOUN', 'PART', 'VERB', 'PUNCT', 'PUNCT']\n",
            "The PTB tags for Example 1 ---\n",
            "['-LRB-', 'DT', 'NN', 'IN', 'DT', 'JJ', 'NN', 'MD', 'VB', 'VBG', 'PRP', 'NN', 'IN', 'NNS', 'TO', 'VB', '.', '-RRB-']\n",
            "\n",
            "The sentence for Example 2 ---\n",
            "['DPA', ':', 'Iraqi', 'authorities', 'announced', 'that', 'they', 'had', 'busted', 'up', '3', 'terrorist', 'cells', 'operating', 'in', 'Baghdad', '.']\n",
            "The UD tags for Example 2 ---\n",
            "['PROPN', 'PUNCT', 'ADJ', 'NOUN', 'VERB', 'SCONJ', 'PRON', 'AUX', 'VERB', 'ADP', 'NUM', 'ADJ', 'NOUN', 'VERB', 'ADP', 'PROPN', 'PUNCT']\n",
            "The PTB tags for Example 2 ---\n",
            "['NNP', ':', 'JJ', 'NNS', 'VBD', 'IN', 'PRP', 'VBD', 'VBN', 'RP', 'CD', 'JJ', 'NNS', 'VBG', 'IN', 'NNP', '.']\n",
            "\n"
          ]
        },
        {
          "output_type": "stream",
          "name": "stderr",
          "text": [
            "\n"
          ]
        }
      ],
      "source": [
        "train_iter = datasets.UDPOS(split='train')\n",
        "\n",
        "for i, example in enumerate(train_iter):\n",
        "    print(f'The sentence for Example {i} ---')\n",
        "    print(example[0])\n",
        "    print(f'The UD tags for Example {i} ---')\n",
        "    print(example[1])\n",
        "    print(f'The PTB tags for Example {i} ---')\n",
        "    print(example[2])\n",
        "    print()\n",
        "    if i == 2: break"
      ]
    },
    {
      "cell_type": "markdown",
      "metadata": {
        "id": "-2E7SKpRo-s_"
      },
      "source": [
        "### Preprocessing\n",
        "\n",
        "In our neural network-based model we can only accept fixed sized inputs.  Each input corresponds to a subsequence, consisting of a  center word and a number $w$ of words before and after, and the label is the POS tag for the center word. We often refer to the subsequence as a window of size $(2w + 1)$.\n",
        "\n",
        "So given a sentence, say, \"This killing of a respected cleric.' with, tags, say 'DET', 'NOUN', 'ADP', 'DET', 'ADJ', 'NOUN', 'PUNCT' (the last tag is for the period at the end of the sentence), some of our input examples for the model are the following (for $w = 1$):\n",
        "- \"This killing of\", 'NOUN'\n",
        "- \"killing of a\", 'ADP'\n",
        "- \"respected cleric.\", 'NOUN'.\n",
        "\n",
        "But the above scheme would imply that, when $w = 1$, the tags of the first and last words for any sentence would never be part of an example.  To avoid that, we add dummy '\\<s>' and '\\</s>' words, and corresponding tags, to the beginning and end of each sentence.  We need to add as many dummy words as $w$.  So if $w = 2$, we first convert the above sentence and its tags to\n",
        "- \"\\<s> \\<s> This killing of a respected cleric. \\</s> \\</s>' \n",
        "- 'STAG', 'STAG','DET', 'NOUN', 'ADP', 'DET', 'ADJ', 'NOUN', 'PUNCT', 'ETAG', 'ETAG'. \n",
        "\n",
        "**Task 1** [5 points]: Most of the code for preprocessing is given below.  But some parts are missing.  Complete the code."
      ]
    },
    {
      "cell_type": "code",
      "execution_count": null,
      "metadata": {
        "colab": {
          "base_uri": "https://localhost:8080/"
        },
        "id": "xlmXQNQQo-tA",
        "outputId": "8fe25001-77e5-4672-c05e-59edadaca3e4"
      },
      "outputs": [
        {
          "output_type": "stream",
          "name": "stdout",
          "text": [
            "Test passed.\n"
          ]
        }
      ],
      "source": [
        "W = 1\n",
        "WINDOW_SIZE = (2 * W + 1)\n",
        "\n",
        "SENT_START_WORD = '<s>'\n",
        "SENT_END_WORD = '</s>'\n",
        "SENT_START_TAG = '<STAG>'\n",
        "SENT_END_TAG = '<ETAG>'\n",
        "\n",
        "def add_sent_start_end(data_iter, w):\n",
        "    for (words, ud_tags, ptb_tags) in data_iter:\n",
        "        new_words = [SENT_START_WORD] * w + words + [SENT_END_WORD] * w\n",
        "        new_ud_tags = [SENT_START_TAG] * w+ ud_tags + [SENT_END_TAG] * w\n",
        "        ## MISSING PART: ADD YOUR CODE BELOW\n",
        "        new_ptb_tags = [SENT_START_TAG] * w+ ptb_tags + [SENT_END_TAG] * w\n",
        "        ## ADD YOUR CODE ABOVE\n",
        "        yield(new_words, new_ud_tags, new_ptb_tags)\n",
        "        \n",
        "def create_windows(data_iter, w):\n",
        "    window_size = 2*w + 1\n",
        "    for (words, ud_tags, ptb_tags) in data_iter:\n",
        "        words_zip = zip(*[words[i:] for i in range(window_size)])\n",
        "        ud_zip = zip(*[ud_tags[i:] for i in range(window_size)])\n",
        "        ## MISSING PART: ADD YOUR CODE BELOW\n",
        "        ptb_zip = zip(*[ptb_tags[i:] for i in range(window_size)])\n",
        "        ## ADD YOUR CODE ABOVE\n",
        "        for word_sseq, ud_sseq, ptb_sseq in zip(\n",
        "                words_zip, ud_zip, ptb_zip):\n",
        "            yield(word_sseq, ud_sseq, ptb_sseq)\n",
        "            \n",
        "def preprocess_data_seq(data_iter, w):\n",
        "    ## MISSING PART: ADD YOUR CODE BELOW\n",
        "    data_iter_a = add_sent_start_end(data_iter, w)\n",
        "    data_iter_b = create_windows(data_iter_a, w)\n",
        "    return data_iter_b\n",
        "\n",
        "def test_preprocess_data_seq():\n",
        "    \n",
        "    # WARNING: The following test assumes a particular default\n",
        "    # sequence of examples in the PyTorch UDPOS dataset. If you\n",
        "    # suspect the sequence is different for your dataset, please\n",
        "    # adapt the test.\n",
        "\n",
        "    train_iter_0 = datasets.UDPOS(split = 'train')    \n",
        "    train_iter_demo = preprocess_data_seq(train_iter_0, 1)\n",
        "    ex0 = (('<s>', 'Al', '-'), \n",
        "           ('<STAG>', 'PROPN', 'PUNCT'), \n",
        "           ('<STAG>', 'NNP', 'HYPH'))\n",
        "    ex1 = (('Al', '-', 'Zaman'), \n",
        "           ('PROPN', 'PUNCT', 'PROPN'), \n",
        "           ('NNP', 'HYPH', 'NNP'))\n",
        "    ex2 = (('-', 'Zaman', ':'), \n",
        "           ('PUNCT', 'PROPN', 'PUNCT'), \n",
        "           ('HYPH', 'NNP', ':'))\n",
        "    assert ex0 == next(train_iter_demo)\n",
        "    assert ex1 == next(train_iter_demo)\n",
        "    assert ex2 == next(train_iter_demo)\n",
        "    print('Test passed.')\n",
        "    \n",
        "test_preprocess_data_seq()"
      ]
    },
    {
      "cell_type": "markdown",
      "metadata": {
        "id": "3qTo3Bx1o-tB"
      },
      "source": [
        "### Create vocabularies for words and tags\n",
        "\n",
        "Since the number of tags is reasonably large, we use the `Vocab` class to create objects `vocab_words`, `vocab_ud`, and `vocab_ptb` for both words and the two sets of tags from the training set."
      ]
    },
    {
      "cell_type": "code",
      "execution_count": null,
      "metadata": {
        "id": "wg5VeN-4o-tC"
      },
      "outputs": [],
      "source": [
        "# It is important to recreate the training set afresh \n",
        "# each time they are used, since they are Python iterators, and\n",
        "# once use, cannot be reused.  One could, however, cast them into\n",
        "# a list, which would store them permanently.\n",
        "\n",
        "train_iter_0 = datasets.UDPOS(split='train')    \n",
        "train_iter_vocab = preprocess_data_seq(train_iter_0, 1)\n",
        "\n",
        "counter_words = Counter()\n",
        "counter_ud = Counter()\n",
        "counter_ptb = Counter()\n",
        "\n",
        "for (text, pos_ud, pos_ptb) in train_iter_vocab:\n",
        "    counter_words.update(text)\n",
        "    counter_ud.update(pos_ud)\n",
        "    counter_ptb.update(pos_ptb)\n",
        "\n",
        "vocab_words = vocab(counter_words)    \n",
        "vocab_ud = vocab(counter_ud)\n",
        "vocab_ptb = vocab(counter_ptb)"
      ]
    },
    {
      "cell_type": "markdown",
      "metadata": {
        "id": "X1rNWClEo-tC"
      },
      "source": [
        "### Collate function for customized data loader\n",
        "\n",
        "**Task 2** [5]: Write a collate function that takes a batch of examples, and for a given window width and tag type, returns the following\n",
        "- a tensor corresponding to the index of the tag for the center word in each example of the batch. Recall, each example is a window with a width of $(2w + 1)$ words.\n",
        "- a tensor corresponding to the index of each of the words in the example, according the to vocabulary for words.\n",
        "\n",
        "Note: The collate function is called by the data loader with the batch of examples from the data set.  So any additional parameters to the function should have default values.\n",
        "\n",
        "From this task onwards we'll only work with the UD tags."
      ]
    },
    {
      "cell_type": "code",
      "execution_count": null,
      "metadata": {
        "colab": {
          "base_uri": "https://localhost:8080/"
        },
        "id": "Ncgn90KXo-tD",
        "outputId": "d576ca3a-b356-4b59-8cae-7fb90eafc9e0"
      },
      "outputs": [
        {
          "output_type": "stream",
          "name": "stdout",
          "text": [
            "Test passed\n"
          ]
        }
      ],
      "source": [
        "from torch.utils.data import DataLoader\n",
        "TAG = 'ud'\n",
        "\n",
        "def collate_fn(batch, w = W, tag = TAG):\n",
        "    ## WRITE YOUR CODE BELOW\n",
        "    vocab_words_itos = vocab_words.get_itos()\n",
        "    vocab_ud_itos = vocab_ud.get_itos()\n",
        "\n",
        "    labels = torch.zeros(len(batch), dtype=torch.int64).to(device)\n",
        "    word_idxs = torch.zeros(len(batch), len(batch[0][0]), dtype=torch.int64).to(device)\n",
        "    for i in range(len(batch)):\n",
        "        tag = batch[i][1][2]\n",
        "        if tag in vocab_ud_itos:\n",
        "            labels[i] = vocab_ud_itos.index(tag)\n",
        "        for j in range(len(batch[i][0])):\n",
        "            word = batch[i][0][j]\n",
        "            if word in vocab_words_itos:\n",
        "                word_idxs[i,j] = vocab_words_itos.index(word)\n",
        "    return labels, word_idxs\n",
        "        \n",
        "    ## WRITE YOUR CODE ABOVE\n",
        "    # The tensors you return should be place in the correct device\n",
        "    # as shown below.\n",
        "    return labels.to(device), word_idxs.cuda()\n",
        "\n",
        "def test_collate():\n",
        "    pos = [5, 6, 1, 4]  \n",
        "    examples = []\n",
        "    vocab_words_itos = vocab_words.get_itos()\n",
        "    vocab_ud_itos = vocab_ud.get_itos()\n",
        "    vocab_ptb_itos = vocab_ptb.get_itos()\n",
        "\n",
        "    for perm in ['03022', '33210', '33211', '11101']:\n",
        "        words = []\n",
        "        utags = []\n",
        "        ptags = []\n",
        "        for ind in perm:\n",
        "            ind = int(ind)\n",
        "            words.append(vocab_words_itos[pos[ind]])\n",
        "            utags.append(vocab_ud_itos[pos[ind]+1])\n",
        "            ptags.append(vocab_ptb_itos[pos[ind]])\n",
        "        examples.append((words, utags, ptags))\n",
        "    lt =  torch.tensor([6, 2, 2, 7]).to(device)\n",
        "    wt = torch.tensor([\n",
        "        [5, 4, 5, 1, 1],\n",
        "        [4, 4, 1, 6, 5],\n",
        "        [4, 4, 1, 6, 6],\n",
        "        [6, 6, 6, 5, 6]]).to(device)\n",
        "    rlt, rwt = collate_fn(examples, w = 2)\n",
        "    assert torch.equal(lt, rlt)\n",
        "    assert torch.equal(wt, rwt)\n",
        "    print(\"Test passed\")\n",
        "\n",
        "test_collate()"
      ]
    },
    {
      "cell_type": "markdown",
      "metadata": {
        "id": "77r-oPoVo-tD"
      },
      "source": [
        "### Writing the class for the neural network model\n",
        "\n",
        "**Task 3** [5]: Write a class that implements the following neural network for input $(w_1, w_2, w_3)$ and label $y$ corresponding to tag of $w_2$. (Also discussed in class on April 15, 2021).\n",
        "$$\n",
        "\\begin{eqnarray*}\n",
        "x &=& [E_{[w_1]}, E_{[w_2]}, E_{[w_3]}] \\\\\n",
        "h &=& \\text{tanh}(x W^1 + b^1)\\\\\n",
        "\\tilde{y} & = & hW^2 + b^2\\\\\n",
        "\\hat{y} & = & \\text{softmax}(y)\\\\\n",
        "\\end{eqnarray*}\n",
        "$$\n",
        "The model returns $\\ln \\hat{y}$, and expects the training loop to use `nn.NLLLoss()` to compute the cross entropy loss, given $y$. Assume the embedding has vectors of size $300$, and $h$ is a vector of size $128$.  Please read the documentation for `nn.Embedding(),` `nn.Linear(),`, and `nn.Tanh()` to learn how to use them.\n",
        "\n",
        "*Hint:* Unlike HW2, here the input (for each example in a batch) consist of $(2w+1)$ numbers corresponding to the indices of the words in the window. These are converted to $(2w+1)$ vectors when they are passed to the embedding layer. They have to be concatenated into a single vector of length $(2w+1) \\times 300$ before they are sent to the first linear layer ($W^1$).  Use `reshape()` or `view()` in the `forward()` function below to achieve this.\n"
      ]
    },
    {
      "cell_type": "code",
      "execution_count": null,
      "metadata": {
        "id": "s5WZsBlFo-tD"
      },
      "outputs": [],
      "source": [
        "import torch.nn.functional as F\n",
        "\n",
        "class NNPOSTagger(nn.Module):\n",
        "    def __init__(self,\n",
        "                 window_size,\n",
        "                 vocab_size, \n",
        "                 embedding_dim, \n",
        "                 hidden_dim, \n",
        "                 output_dim,\n",
        "                 nonlinearity, \n",
        "                 # These are used for later tasks\n",
        "                 use_glove = False, \n",
        "                 freeze_glove = False):      \n",
        "        super(NNPOSTagger, self).__init__()\n",
        "        \n",
        "        ## WRITE YOUR CODE BELOW \n",
        "        self.window_size = window_size\n",
        "        self.embedding_dim = embedding_dim\n",
        "        self.nonlinearity = nonlinearity\n",
        "        self.Embedding = nn.Embedding(vocab_size, embedding_dim)\n",
        "        self.Linear1 = nn.Linear(window_size * embedding_dim, hidden_dim)\n",
        "        self.Linear2 = nn.Linear(hidden_dim, output_dim)\n",
        "      \n",
        "        \n",
        "    def forward(self, word_idxs_batch):\n",
        "        \n",
        "        ## WRITE YOUR CODE BELOW.\n",
        "        embeds = self.Embedding(word_idxs_batch).reshape(len(word_idxs_batch), self.window_size * self.embedding_dim)\n",
        "        out = self.nonlinearity(self.Linear1(embeds))\n",
        "        out = self.Linear2(out)\n",
        "        log_probs = F.log_softmax(out, dim=1)\n",
        "        return log_probs"
      ]
    },
    {
      "cell_type": "markdown",
      "metadata": {
        "id": "E5xAZ4C2o-tE"
      },
      "source": [
        "#### Instantiating the model\n",
        "\n",
        "PyTorch uses `to(device)` to specify whether the model is to be used with a CPU or with a GPU/CUDA."
      ]
    },
    {
      "cell_type": "code",
      "execution_count": null,
      "metadata": {
        "id": "Dw9n6Tj9o-tE"
      },
      "outputs": [],
      "source": [
        "model = NNPOSTagger(window_size = WINDOW_SIZE, \n",
        "                    vocab_size = len(vocab_words), \n",
        "                     embedding_dim = 300, \n",
        "                     hidden_dim = 128, \n",
        "                     output_dim = len(vocab_ud),\n",
        "                     nonlinearity = nn.Tanh(), \n",
        "                     use_glove = False,\n",
        "                     freeze_glove = False).to(device)"
      ]
    },
    {
      "cell_type": "markdown",
      "metadata": {
        "id": "LvD3oTSko-tF"
      },
      "source": [
        "### Training an epoch\n",
        "\n",
        "**Task 4** [5]: Write a function to train one epoch of the dataset. This is similar to the code for the logistic regression based text classification problem."
      ]
    },
    {
      "cell_type": "code",
      "execution_count": null,
      "metadata": {
        "id": "jrt2usm0o-tF"
      },
      "outputs": [],
      "source": [
        "loss_function = torch.nn.NLLLoss()\n",
        "\n",
        "def train_an_epoch(dataloader):\n",
        "    ## WRITE YOUR CODE BELOW\n",
        "    model.train() # Sets the module in training mode.\n",
        "    log_interval = 500\n",
        "\n",
        "    for idx, (label, text) in enumerate(dataloader):\n",
        "        model.zero_grad()\n",
        "        log_probs = model(text)\n",
        "        loss = loss_function(log_probs, label)\n",
        "        loss.backward()\n",
        "        optimizer.step()"
      ]
    },
    {
      "cell_type": "markdown",
      "metadata": {
        "id": "A2rAsJmUo-tF"
      },
      "source": [
        "### Computing the accuracy\n",
        "\n",
        "The function is given below."
      ]
    },
    {
      "cell_type": "code",
      "execution_count": null,
      "metadata": {
        "id": "QPpqE1Vlo-tF"
      },
      "outputs": [],
      "source": [
        "def get_accuracy(dataloader):\n",
        "    model.eval()\n",
        "    with torch.no_grad():    \n",
        "        total_acc, total_count = 0, 0\n",
        "        for idx, (label, word_idxs) in enumerate(dataloader):\n",
        "            log_probs = model(word_idxs)\n",
        "            total_acc += (log_probs.argmax(1) == label).sum().item()\n",
        "            total_count += label.size(0)\n",
        "    return total_acc/total_count"
      ]
    },
    {
      "cell_type": "markdown",
      "metadata": {
        "id": "eTr77xMKo-tG"
      },
      "source": [
        "### Creating the data loaders"
      ]
    },
    {
      "cell_type": "code",
      "execution_count": null,
      "metadata": {
        "id": "0GsSzbNHo-tG"
      },
      "outputs": [],
      "source": [
        "BATCH_SIZE = 64 # batch size for training\n",
        "  \n",
        "train_0, valid_0, test_0 = train_data_0 = datasets.UDPOS(\n",
        "    split = ('train', 'valid', 'test'))\n",
        "train_data = list(preprocess_data_seq(train_0, W))\n",
        "valid_data = list(preprocess_data_seq(valid_0, W))\n",
        "test_data = list(preprocess_data_seq(test_0, W))\n",
        "\n",
        "train_dataloader = DataLoader(train_data, batch_size=BATCH_SIZE,\n",
        "                              shuffle=True, \n",
        "                              collate_fn=collate_fn)\n",
        "valid_dataloader = DataLoader(valid_data, batch_size=BATCH_SIZE,\n",
        "                              shuffle=False, \n",
        "                              collate_fn=collate_fn)\n",
        "test_dataloader = DataLoader(test_data, batch_size=BATCH_SIZE,\n",
        "                             shuffle=False, \n",
        "                             collate_fn=collate_fn)"
      ]
    },
    {
      "cell_type": "markdown",
      "metadata": {
        "id": "VjoZFjZvo-tG"
      },
      "source": [
        "### Training"
      ]
    },
    {
      "cell_type": "code",
      "execution_count": null,
      "metadata": {
        "id": "HVBZjQkPo-tG",
        "colab": {
          "base_uri": "https://localhost:8080/",
          "height": 716
        },
        "outputId": "fa87ccee-bad7-4fd9-a728-d8f7de4ba48e"
      },
      "outputs": [
        {
          "output_type": "stream",
          "name": "stdout",
          "text": [
            "Epoch: 1, time taken: 86.4s, validation accuracy: 0.765.\n",
            "Epoch: 2, time taken: 85.2s, validation accuracy: 0.799.\n",
            "Epoch: 3, time taken: 85.4s, validation accuracy: 0.816.\n",
            "Epoch: 4, time taken: 85.2s, validation accuracy: 0.829.\n",
            "Epoch: 5, time taken: 85.2s, validation accuracy: 0.839.\n",
            "Epoch: 6, time taken: 86.5s, validation accuracy: 0.845.\n",
            "Epoch: 7, time taken: 85.1s, validation accuracy: 0.852.\n",
            "Epoch: 8, time taken: 85.2s, validation accuracy: 0.857.\n",
            "Epoch: 9, time taken: 85.3s, validation accuracy: 0.862.\n",
            "Epoch: 10, time taken: 86.1s, validation accuracy: 0.863.\n",
            "Epoch: 11, time taken: 85.1s, validation accuracy: 0.867.\n",
            "Epoch: 12, time taken: 85.1s, validation accuracy: 0.869.\n",
            "Epoch: 13, time taken: 85.2s, validation accuracy: 0.870.\n",
            "Epoch: 14, time taken: 85.3s, validation accuracy: 0.870.\n",
            "Epoch: 15, time taken: 86.4s, validation accuracy: 0.874.\n",
            "Epoch: 16, time taken: 85.5s, validation accuracy: 0.874.\n",
            "Epoch: 17, time taken: 85.5s, validation accuracy: 0.875.\n",
            "Epoch: 18, time taken: 85.3s, validation accuracy: 0.876.\n",
            "Epoch: 19, time taken: 86.4s, validation accuracy: 0.875.\n",
            "Epoch: 20, time taken: 85.6s, validation accuracy: 0.876.\n",
            "Epoch: 21, time taken: 85.3s, validation accuracy: 0.876.\n",
            "Epoch: 22, time taken: 85.4s, validation accuracy: 0.876.\n",
            "Epoch: 23, time taken: 86.5s, validation accuracy: 0.877.\n",
            "Epoch: 24, time taken: 85.6s, validation accuracy: 0.878.\n",
            "Epoch: 25, time taken: 85.4s, validation accuracy: 0.878.\n"
          ]
        },
        {
          "output_type": "execute_result",
          "data": {
            "text/plain": [
              "[<matplotlib.lines.Line2D at 0x7f296ffd3a90>]"
            ]
          },
          "metadata": {},
          "execution_count": 36
        },
        {
          "output_type": "display_data",
          "data": {
            "text/plain": [
              "<Figure size 432x288 with 1 Axes>"
            ],
            "image/png": "[encoded data removed]"
          },
          "metadata": {
            "needs_background": "light"
          }
        }
      ],
      "source": [
        "import time\n",
        "import matplotlib.pyplot as plt\n",
        "%matplotlib inline\n",
        "\n",
        "EPOCHS = 3 # epoch\n",
        "optimizer = torch.optim.Adam(model.parameters(), lr=1e-4)\n",
        "\n",
        "accuracies=[]\n",
        "for epoch in range(1, EPOCHS + 1):\n",
        "    epoch_start_time = time.time()\n",
        "    train_an_epoch(train_dataloader)\n",
        "    accuracy = get_accuracy(valid_dataloader)\n",
        "    accuracies.append(accuracy)\n",
        "    time_taken = time.time() - epoch_start_time\n",
        "    print(f'Epoch: {epoch}, time taken: {time_taken:.1f}s, validation accuracy: {accuracy:.3f}.')\n",
        "    \n",
        "plt.plot(range(1, EPOCHS+1), accuracies)"
      ]
    },
    {
      "cell_type": "markdown",
      "metadata": {
        "id": "xmP7UC7Po-tH"
      },
      "source": [
        "### Running on Google Colab\n",
        "\n",
        "Google Colab provides GPUs on which we can run Jupyter notebooks. These are for free as long as the job takes less than, say, 4 hours. Our job will take much less.\n",
        "\n",
        "Please create an account on Google if you don't have one.  Please read a tutorial on using Colab (such as [this](https://colab.research.google.com/notebooks/intro.ipynb)).  Upload your notebook on Colab. **Change the runtime type to GPU.** Make any changes required to get your code to run on Colab. (Normally there should  be no change required.) \n",
        "\n",
        "For all following tasks that required running your code for several epochs, we recommend developing your code locally, but finally running it on Colab to get the results.\n",
        "\n",
        "**Task 5** [5]: Run the model for a sufficient number of epochs (not more than 30) such that the model shows overfitting, if at all, and submit a pdf of the plot of accuracy against number of epochs. Determine the optimal number of epochs to train for. Write code to estimate the accuracy of your model (using the test set) corresponding to this optimal number of epocs and report this estimated accuracy."
      ]
    },
    {
      "cell_type": "code",
      "source": [
        "import time\n",
        "import matplotlib.pyplot as plt\n",
        "%matplotlib inline\n",
        "\n",
        "EPOCHS = 15 # epoch\n",
        "optimizer = torch.optim.Adam(model.parameters(), lr=1e-4)\n",
        "\n",
        "for epoch in range(1, EPOCHS + 1):\n",
        "    train_an_epoch(train_dataloader)\n",
        "\n",
        "accuracy = get_accuracy(test_dataloader)"
      ],
      "metadata": {
        "id": "U4YC5ju3qu2k"
      },
      "execution_count": null,
      "outputs": []
    },
    {
      "cell_type": "code",
      "source": [
        "accuracy"
      ],
      "metadata": {
        "colab": {
          "base_uri": "https://localhost:8080/"
        },
        "id": "0zMcXZVm0oHj",
        "outputId": "644a68d6-c916-4c70-8f37-392d8103bbee"
      },
      "execution_count": null,
      "outputs": [
        {
          "output_type": "execute_result",
          "data": {
            "text/plain": [
              "0.8584292943379687"
            ]
          },
          "metadata": {},
          "execution_count": 15
        }
      ]
    },
    {
      "cell_type": "markdown",
      "metadata": {
        "id": "ELDqQBEKo-tH"
      },
      "source": [
        "### Initializing with pre-trained embeddings\n",
        "\n",
        "In the above model, the embedding matrix is initialized to either zero or random vectors, but trained along with the rest of the parameters. It may help to initialize the embedding matrix from GloVe vector embeddings. You may then choose to freeze the embedding matrix (i.e., not update the vectors during training) or train them to adapt to the POS examples. (For further details you may optionally read Section 10.1--3 from the Goldberg textbook.)\n",
        "\n",
        "The following code snippet creates a embedding matrix that has a vector corresponding to each of our `vocab_words` created from the training set."
      ]
    },
    {
      "cell_type": "code",
      "execution_count": null,
      "metadata": {
        "id": "NouT6jiZo-tH"
      },
      "outputs": [],
      "source": [
        "from torchtext import vocab\n",
        "\n",
        "glove = vocab.GloVe('6B',cache=VECTORS_CACHE_DIR)\n",
        "glove_vectors = glove.get_vecs_by_tokens(vocab_words.get_itos())"
      ]
    },
    {
      "cell_type": "markdown",
      "source": [],
      "metadata": {
        "id": "etYTRiP7AMr5"
      }
    },
    {
      "cell_type": "markdown",
      "metadata": {
        "id": "ONM230q7o-tH"
      },
      "source": [
        "**Task 6** [5]: Rewrite/extend the code for the module to initialize the embedding layer with `glove_vectors` created above.  Please read the documentation for the function [`nn.Embedding.from_pretrained()`](https://pytorch.org/docs/master/generated/torch.nn.Embedding.html#torch.nn.Embedding.from_pretrained) to understand how this is done. Submit corresponding plot and report on the performance when the embedding is frozen.\n",
        "\n",
        "**Task 7** [5]: Submit corresponding plot and report on the performance when the embedding is not frozen."
      ]
    },
    {
      "cell_type": "code",
      "source": [
        "import torch.nn.functional as F\n",
        "\n",
        "class NNPOSTagger(nn.Module):\n",
        "    def __init__(self,\n",
        "                 window_size,\n",
        "                 vocab_size, \n",
        "                 embedding_dim, \n",
        "                 hidden_dim, \n",
        "                 output_dim,\n",
        "                 nonlinearity, \n",
        "                 # These are used for later tasks\n",
        "                 use_glove = True, \n",
        "                 freeze_glove = False):      \n",
        "        super(NNPOSTagger, self).__init__()\n",
        "        \n",
        "        ## WRITE YOUR CODE BELOW \n",
        "        self.window_size = window_size\n",
        "        self.embedding_dim = embedding_dim\n",
        "        self.nonlinearity = nonlinearity\n",
        "        \n",
        "        if use_glove:\n",
        "            self.Embedding = nn.Embedding.from_pretrained(glove_vectors, freeze=freeze_glove)\n",
        "        else:\n",
        "            self.Embedding = nn.Embedding(vocab_size, embedding_dim)\n",
        "        self.Linear1 = nn.Linear(window_size * embedding_dim, hidden_dim)\n",
        "        self.Linear2 = nn.Linear(hidden_dim, output_dim)\n",
        "        \n",
        "    def forward(self, word_idxs_batch):\n",
        "        \n",
        "        ## WRITE YOUR CODE BELOW.\n",
        "        embeds = self.Embedding(word_idxs_batch).reshape(len(word_idxs_batch), self.window_size * self.embedding_dim)\n",
        "        out = self.nonlinearity(self.Linear1(embeds))\n",
        "        out = self.Linear2(out)\n",
        "        log_probs = F.log_softmax(out, dim=1)\n",
        "        return log_probs"
      ],
      "metadata": {
        "id": "zwUGHJRPAZ1z"
      },
      "execution_count": null,
      "outputs": []
    },
    {
      "cell_type": "code",
      "source": [
        "model = NNPOSTagger(window_size = WINDOW_SIZE, \n",
        "                    vocab_size = len(vocab_words), \n",
        "                     embedding_dim = 300, \n",
        "                     hidden_dim = 128, \n",
        "                     output_dim = len(vocab_ud),\n",
        "                     nonlinearity = nn.Tanh(), \n",
        "                     use_glove = True,\n",
        "                     freeze_glove = True).to(device)"
      ],
      "metadata": {
        "id": "vOSYYdsgAc-e"
      },
      "execution_count": null,
      "outputs": []
    },
    {
      "cell_type": "code",
      "source": [
        "import time\n",
        "import matplotlib.pyplot as plt\n",
        "%matplotlib inline\n",
        "\n",
        "EPOCHS = 15 # epoch\n",
        "optimizer = torch.optim.Adam(model.parameters(), lr=1e-4)\n",
        "\n",
        "accuracies=[]\n",
        "for epoch in range(1, EPOCHS + 1):\n",
        "    epoch_start_time = time.time()\n",
        "    train_an_epoch(train_dataloader)\n",
        "    accuracy = get_accuracy(valid_dataloader)\n",
        "    accuracies.append(accuracy)\n",
        "    time_taken = time.time() - epoch_start_time\n",
        "    print(f'Epoch: {epoch}, time taken: {time_taken:.1f}s, validation accuracy: {accuracy:.3f}.')\n",
        "    \n",
        "plt.plot(range(1, EPOCHS+1), accuracies)"
      ],
      "metadata": {
        "colab": {
          "base_uri": "https://localhost:8080/",
          "height": 543
        },
        "id": "vKpqlR2hAoDg",
        "outputId": "701e760e-0fbf-4c75-f4ce-2e3f3667e9cd"
      },
      "execution_count": null,
      "outputs": [
        {
          "output_type": "stream",
          "name": "stdout",
          "text": [
            "Epoch: 1, time taken: 79.0s, validation accuracy: 0.761.\n",
            "Epoch: 2, time taken: 78.7s, validation accuracy: 0.789.\n",
            "Epoch: 3, time taken: 79.0s, validation accuracy: 0.799.\n",
            "Epoch: 4, time taken: 79.1s, validation accuracy: 0.807.\n",
            "Epoch: 5, time taken: 78.9s, validation accuracy: 0.813.\n",
            "Epoch: 6, time taken: 79.2s, validation accuracy: 0.818.\n",
            "Epoch: 7, time taken: 78.4s, validation accuracy: 0.822.\n",
            "Epoch: 8, time taken: 78.4s, validation accuracy: 0.829.\n",
            "Epoch: 9, time taken: 78.6s, validation accuracy: 0.830.\n",
            "Epoch: 10, time taken: 77.6s, validation accuracy: 0.835.\n",
            "Epoch: 11, time taken: 78.1s, validation accuracy: 0.837.\n",
            "Epoch: 12, time taken: 78.1s, validation accuracy: 0.841.\n",
            "Epoch: 13, time taken: 79.1s, validation accuracy: 0.844.\n",
            "Epoch: 14, time taken: 77.9s, validation accuracy: 0.844.\n",
            "Epoch: 15, time taken: 78.2s, validation accuracy: 0.845.\n"
          ]
        },
        {
          "output_type": "execute_result",
          "data": {
            "text/plain": [
              "[<matplotlib.lines.Line2D at 0x7f8b79807d90>]"
            ]
          },
          "metadata": {},
          "execution_count": 18
        },
        {
          "output_type": "display_data",
          "data": {
            "text/plain": [
              "<Figure size 432x288 with 1 Axes>"
            ],
            "image/png": "[encoded data removed]"
          },
          "metadata": {
            "needs_background": "light"
          }
        }
      ]
    },
    {
      "cell_type": "code",
      "source": [
        "print(get_accuracy(test_dataloader))"
      ],
      "metadata": {
        "colab": {
          "base_uri": "https://localhost:8080/"
        },
        "id": "dfmgLY6BAr-x",
        "outputId": "abdf9696-4356-49a2-c4ab-4afe74454f09"
      },
      "execution_count": null,
      "outputs": [
        {
          "output_type": "stream",
          "name": "stdout",
          "text": [
            "0.8469936645814241\n"
          ]
        }
      ]
    },
    {
      "cell_type": "code",
      "source": [
        "model = NNPOSTagger(window_size = WINDOW_SIZE, \n",
        "                    vocab_size = len(vocab_words), \n",
        "                     embedding_dim = 300, \n",
        "                     hidden_dim = 128, \n",
        "                     output_dim = len(vocab_ud),\n",
        "                     nonlinearity = nn.Tanh(), \n",
        "                     use_glove = True,\n",
        "                     freeze_glove = False).to(device)"
      ],
      "metadata": {
        "id": "B-qF3uRdLENv"
      },
      "execution_count": null,
      "outputs": []
    },
    {
      "cell_type": "code",
      "source": [
        "import time\n",
        "import matplotlib.pyplot as plt\n",
        "%matplotlib inline\n",
        "\n",
        "EPOCHS = 15 # epoch\n",
        "optimizer = torch.optim.Adam(model.parameters(), lr=1e-4)\n",
        "\n",
        "accuracies=[]\n",
        "for epoch in range(1, EPOCHS + 1):\n",
        "    epoch_start_time = time.time()\n",
        "    train_an_epoch(train_dataloader)\n",
        "    accuracy = get_accuracy(valid_dataloader)\n",
        "    accuracies.append(accuracy)\n",
        "    time_taken = time.time() - epoch_start_time\n",
        "    print(f'Epoch: {epoch}, time taken: {time_taken:.1f}s, validation accuracy: {accuracy:.3f}.')\n",
        "    \n",
        "plt.plot(range(1, EPOCHS+1), accuracies)"
      ],
      "metadata": {
        "colab": {
          "base_uri": "https://localhost:8080/",
          "height": 543
        },
        "id": "SvTZDg3BLKxY",
        "outputId": "d918449d-3e31-46db-ee48-56c48c852a70"
      },
      "execution_count": null,
      "outputs": [
        {
          "output_type": "stream",
          "name": "stdout",
          "text": [
            "Epoch: 1, time taken: 82.6s, validation accuracy: 0.842.\n",
            "Epoch: 2, time taken: 81.2s, validation accuracy: 0.871.\n",
            "Epoch: 3, time taken: 81.7s, validation accuracy: 0.881.\n",
            "Epoch: 4, time taken: 80.9s, validation accuracy: 0.886.\n",
            "Epoch: 5, time taken: 81.8s, validation accuracy: 0.889.\n",
            "Epoch: 6, time taken: 82.3s, validation accuracy: 0.890.\n",
            "Epoch: 7, time taken: 82.2s, validation accuracy: 0.892.\n",
            "Epoch: 8, time taken: 83.9s, validation accuracy: 0.891.\n",
            "Epoch: 9, time taken: 82.2s, validation accuracy: 0.892.\n",
            "Epoch: 10, time taken: 82.9s, validation accuracy: 0.892.\n",
            "Epoch: 11, time taken: 82.6s, validation accuracy: 0.893.\n",
            "Epoch: 12, time taken: 82.9s, validation accuracy: 0.892.\n",
            "Epoch: 13, time taken: 84.3s, validation accuracy: 0.891.\n",
            "Epoch: 14, time taken: 83.0s, validation accuracy: 0.891.\n",
            "Epoch: 15, time taken: 82.8s, validation accuracy: 0.891.\n"
          ]
        },
        {
          "output_type": "execute_result",
          "data": {
            "text/plain": [
              "[<matplotlib.lines.Line2D at 0x7f8b6eb9d910>]"
            ]
          },
          "metadata": {},
          "execution_count": 22
        },
        {
          "output_type": "display_data",
          "data": {
            "text/plain": [
              "<Figure size 432x288 with 1 Axes>"
            ],
            "image/png": "[encoded data removed]"
          },
          "metadata": {
            "needs_background": "light"
          }
        }
      ]
    },
    {
      "cell_type": "code",
      "source": [
        "print(get_accuracy(test_dataloader))"
      ],
      "metadata": {
        "id": "P7UZFBp7LLys"
      },
      "execution_count": null,
      "outputs": []
    },
    {
      "cell_type": "markdown",
      "source": [
        "Unfreezing the embeddings improves performance by about 5%"
      ],
      "metadata": {
        "id": "f8w_eLu5JT1T"
      }
    },
    {
      "cell_type": "markdown",
      "metadata": {
        "id": "GyUllvK4o-tH"
      },
      "source": [
        "### Optionally extending the model\n",
        "\n",
        "**Task 8** [0]: This is an optional, open-ended task.   Try three different ways of your choosing to improve the performance of the model. You may want to vary w, or add additional layers to the network, or increase the size of the hidden vectors $h$, or try with different activation functions. Report on the results you get. Do you think your POS tagger is comparable to a human tagger?\n",
        "\n"
      ]
    }
  ],
  "metadata": {
    "colab": {
      "provenance": []
    },
    "kernelspec": {
      "display_name": "Python 3",
      "language": "python",
      "name": "python3"
    },
    "language_info": {
      "codemirror_mode": {
        "name": "ipython",
        "version": 3
      },
      "file_extension": ".py",
      "mimetype": "text/x-python",
      "name": "python",
      "nbconvert_exporter": "python",
      "pygments_lexer": "ipython3",
      "version": "3.8.3"
    },
    "accelerator": "GPU",
    "gpuClass": "standard"
  },
  "nbformat": 4,
  "nbformat_minor": 0
}